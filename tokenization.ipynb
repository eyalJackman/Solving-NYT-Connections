{
 "cells": [
  {
   "cell_type": "code",
   "execution_count": 9,
   "metadata": {},
   "outputs": [],
   "source": [
    "import spacy\n",
    "import json\n",
    "nlp = spacy.load('en_core_web_sm')\n"
   ]
  },
  {
   "cell_type": "code",
   "execution_count": 19,
   "metadata": {},
   "outputs": [
    {
     "name": "stdout",
     "output_type": "stream",
     "text": [
      "I : I\n",
      "was : be\n",
      "running : run\n",
      "down : down\n",
      "the : the\n",
      "block : block\n",
      "with : with\n",
      "my : my\n",
      "new : new\n",
      "running : running\n",
      "shoes : shoe\n",
      "when : when\n",
      "I : I\n",
      "ran : run\n",
      "! : !\n",
      "into : into\n",
      "Rhianna : Rhianna\n"
     ]
    }
   ],
   "source": [
    "connection_data = json.load(open('connections_data.json'))\n",
    "t = [\"run\", \"running\", \"ran\", \"runs\"]\n",
    "t1 = \"I was running down the block with my new running shoes when I ran! into Rhianna\"\n",
    "t2 = nlp(t1)\n",
    "for token in t2:\n",
    "    print(token, \":\", token.lemma_)"
   ]
  }
 ],
 "metadata": {
  "kernelspec": {
   "display_name": "torch312",
   "language": "python",
   "name": "python3"
  },
  "language_info": {
   "codemirror_mode": {
    "name": "ipython",
    "version": 3
   },
   "file_extension": ".py",
   "mimetype": "text/x-python",
   "name": "python",
   "nbconvert_exporter": "python",
   "pygments_lexer": "ipython3",
   "version": "3.11.5"
  }
 },
 "nbformat": 4,
 "nbformat_minor": 2
}
